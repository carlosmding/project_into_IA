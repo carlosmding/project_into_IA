{
  "nbformat": 4,
  "nbformat_minor": 0,
  "metadata": {
    "colab": {
      "provenance": [],
      "include_colab_link": true
    },
    "kernelspec": {
      "name": "python3",
      "display_name": "Python 3"
    },
    "language_info": {
      "name": "python"
    }
  },
  "cells": [
    {
      "cell_type": "markdown",
      "metadata": {
        "id": "view-in-github",
        "colab_type": "text"
      },
      "source": [
        "<a href=\"https://colab.research.google.com/github/carlosmding/project_intro_IA/blob/main/04_modelo_con_Random_Forest.ipynb\" target=\"_parent\"><img src=\"https://colab.research.google.com/assets/colab-badge.svg\" alt=\"Open In Colab\"/></a>"
      ]
    },
    {
      "cell_type": "code",
      "execution_count": 2,
      "metadata": {
        "id": "9wrVLn3dByJI"
      },
      "outputs": [],
      "source": [
        "import pandas as pd\n",
        "import numpy as np\n",
        "import math\n",
        "from seaborn import distplot\n",
        "import seaborn as sns\n",
        "import matplotlib.pyplot as plt\n",
        "from sklearn.preprocessing import StandardScaler\n",
        "from sklearn.preprocessing import MinMaxScaler\n",
        "from sklearn.model_selection import KFold\n",
        "from sklearn.metrics import f1_score\n",
        "from sklearn.metrics import confusion_matrix\n",
        "from sklearn.metrics import classification_report\n",
        "from sklearn.pipeline import make_pipeline\n",
        "from sklearn.ensemble import RandomForestClassifier\n",
        "from sklearn.model_selection import train_test_split\n",
        "from sklearn.metrics import median_absolute_error, r2_score, mean_squared_error\n",
        "from matplotlib.patches import split_path_inout\n",
        "from imblearn.over_sampling import RandomOverSampler\n",
        "from sklearn.metrics import average_precision_score\n",
        "from sklearn.metrics import roc_auc_score\n",
        "from sklearn.metrics import roc_curve, auc\n",
        "from matplotlib import pyplot\n",
        "\n",
        "from sklearn.model_selection import GridSearchCV\n",
        "\n",
        "from collections import Counter\n",
        "from sklearn.datasets import make_classification\n",
        "from imblearn.over_sampling import RandomOverSampler\n",
        "\n",
        "from sklearn.decomposition import PCA\n",
        "from sklearn.linear_model import LassoCV\n",
        "from sklearn.metrics import roc_auc_score"
      ]
    },
    {
      "cell_type": "markdown",
      "source": [
        "**1. Cargar Dataset**"
      ],
      "metadata": {
        "id": "vUwynZepCqDI"
      }
    },
    {
      "cell_type": "markdown",
      "source": [
        "Se carga el dataset final luego del preprocesamiento. Se cargan los archivos Dataset.csv y y.csv"
      ],
      "metadata": {
        "id": "q7U_8tacV6wL"
      }
    },
    {
      "cell_type": "code",
      "source": [
        "X = pd.read_csv('Dataset.csv', sep=\",\") \n",
        "y = pd.read_csv('y.csv', sep=\",\") \n",
        "\n",
        "X=X.drop(columns=['Unnamed: 0'])\n",
        "y=y.drop(columns=['Unnamed: 0'])\n"
      ],
      "metadata": {
        "id": "AzhWVTX8V859"
      },
      "execution_count": 3,
      "outputs": []
    },
    {
      "cell_type": "markdown",
      "source": [
        "**2. Generador de muestras sintéticas**"
      ],
      "metadata": {
        "id": "hkVAvxO7E_-d"
      }
    },
    {
      "cell_type": "code",
      "source": [
        "pca=PCA(n_components=30) \n",
        "pca.fit(X) #\n",
        "X_pca=pca.transform(X)"
      ],
      "metadata": {
        "id": "XyOQA_M4FIW0"
      },
      "execution_count": 4,
      "outputs": []
    },
    {
      "cell_type": "code",
      "source": [
        "ros = RandomOverSampler(random_state=42, sampling_strategy=1.0)                          \n",
        "Xres, yres = ros.fit_resample(X_pca, y)\n",
        "Xtrain, Xtst, ytrain, ytst = train_test_split(Xres,yres, test_size=0.1) #Se toma el 90 % de los datos para Entrenar\n",
        "print (Xtrain.shape, ytrain.shape, Xtst.shape, ytst.shape)\n",
        "X=Xtrain\n",
        "y=ytrain"
      ],
      "metadata": {
        "colab": {
          "base_uri": "https://localhost:8080/"
        },
        "id": "p5AiGhbNFQlZ",
        "outputId": "cedcabe5-3366-4cda-a29b-55decd5695c2"
      },
      "execution_count": 5,
      "outputs": [
        {
          "output_type": "stream",
          "name": "stdout",
          "text": [
            "(26409, 30) (26409, 1) (2935, 30) (2935, 1)\n"
          ]
        }
      ]
    },
    {
      "cell_type": "markdown",
      "source": [
        "**3. Cálculo pesos de la clase Parámetro que se usa para minimizar el efecto del desbalance del dataset**"
      ],
      "metadata": {
        "id": "NzX2sSDHFeBV"
      }
    },
    {
      "cell_type": "code",
      "source": [
        "def dar_peso_clase():\n",
        "  Xtrain, Xtest, ytrain, ytest = train_test_split(X, y, test_size = 0.2, train_size = 0.8, random_state = 17)\n",
        "  Number_Muestras_por_Clase = ytrain.value_counts()\n",
        "  Number_Muestras_por_Clase = Number_Muestras_por_Clase.sort_index(axis = 0, ascending = True)\n",
        "  Numero_de_Clases = len(Number_Muestras_por_Clase.index)\n",
        "  Peso_por_Clase = len(ytrain)/(Numero_de_Clases*Number_Muestras_por_Clase)\n",
        "  return Peso_por_Clase"
      ],
      "metadata": {
        "id": "wHIfuG95Fga1"
      },
      "execution_count": 6,
      "outputs": []
    },
    {
      "cell_type": "markdown",
      "source": [
        "**4. Modelo de clasificación random Forest Entrenamiento con el 90 % de los datos**\n",
        "\n",
        "https://scikit-learn.org/stable/modules/generated/sklearn.ensemble.RandomForestClassifier.html"
      ],
      "metadata": {
        "id": "eny14wkUF0ue"
      }
    },
    {
      "cell_type": "code",
      "source": [
        "weight = dar_peso_clase() \n",
        "kf = KFokf = KFold(n_splits=10, random_state = True,shuffle=True)\n",
        "\n",
        "#max_features{“sqrt”, “log2”, None}, int or float, default=”sqrt”\n",
        "#  random_state=True,\n",
        "#min_weight_fraction_leaf=0.00005,\n",
        "#n_estimators=5,\n",
        "#min_impurity_decrease=0.005,\n",
        "# ccp_alpha=0.000001,\n",
        "# max_features =\"sqrt\",\n",
        "#  warm_start=True,\n",
        "#  n_jobs=2,\n",
        "\n",
        "X_test =0\n",
        "Y_test =0\n",
        "\n",
        "#warm_start mejoro la velocidad de ejecucion, mejoró la metrica\n",
        "classifier = RandomForestClassifier(min_samples_split=10,\n",
        "                                    ccp_alpha=0.000001,\n",
        "                                    criterion='gini',\n",
        "                                    class_weight = {0: weight[0], 1: weight[1]},\n",
        "                                    random_state=True,max_features =\"sqrt\",\n",
        "                                    warm_start=True,min_impurity_decrease=0.000005)\n",
        "\n",
        "for train_index, test_index in kf.split(X):\n",
        "    \n",
        "    Xtrain, Xtest = X[train_index], X[test_index]\n",
        "    ytrain, ytest = y.iloc[train_index], y.iloc[test_index]\n",
        "    modelo = classifier.fit(Xtrain, ytrain)\n",
        "    ypred = modelo.predict(Xtest)\n",
        "\n",
        "    print()\n",
        "    print(confusion_matrix(ytest, ypred))\n",
        "    print(classification_report(ytest, ypred, digits =4, labels=[0,1]))\n",
        "    s = roc_auc_score(ytest, modelo.predict(Xtest))\n",
        "    print(f'Best val auc: {s: .4f}')"
      ],
      "metadata": {
        "colab": {
          "base_uri": "https://localhost:8080/"
        },
        "id": "k-EhOftTF9mN",
        "outputId": "873758ad-2e32-4871-d6ed-70d2e6de897e"
      },
      "execution_count": 7,
      "outputs": [
        {
          "output_type": "stream",
          "name": "stderr",
          "text": [
            "<ipython-input-7-3ff00dc4ed98>:29: DataConversionWarning: A column-vector y was passed when a 1d array was expected. Please change the shape of y to (n_samples,), for example using ravel().\n",
            "  modelo = classifier.fit(Xtrain, ytrain)\n"
          ]
        },
        {
          "output_type": "stream",
          "name": "stdout",
          "text": [
            "\n",
            "[[ 888  418]\n",
            " [ 108 1227]]\n",
            "              precision    recall  f1-score   support\n",
            "\n",
            "           0     0.8916    0.6799    0.7715      1306\n",
            "           1     0.7459    0.9191    0.8235      1335\n",
            "\n",
            "    accuracy                         0.8008      2641\n",
            "   macro avg     0.8187    0.7995    0.7975      2641\n",
            "weighted avg     0.8179    0.8008    0.7978      2641\n",
            "\n",
            "Best val auc:  0.7995\n",
            "\n",
            "[[ 960  349]\n",
            " [ 127 1205]]\n",
            "              precision    recall  f1-score   support\n",
            "\n",
            "           0     0.8832    0.7334    0.8013      1309\n",
            "           1     0.7754    0.9047    0.8351      1332\n",
            "\n",
            "    accuracy                         0.8198      2641\n",
            "   macro avg     0.8293    0.8190    0.8182      2641\n",
            "weighted avg     0.8288    0.8198    0.8183      2641\n",
            "\n"
          ]
        },
        {
          "output_type": "stream",
          "name": "stderr",
          "text": [
            "<ipython-input-7-3ff00dc4ed98>:29: DataConversionWarning: A column-vector y was passed when a 1d array was expected. Please change the shape of y to (n_samples,), for example using ravel().\n",
            "  modelo = classifier.fit(Xtrain, ytrain)\n",
            "/usr/local/lib/python3.10/dist-packages/sklearn/ensemble/_forest.py:452: UserWarning: Warm-start fitting without increasing n_estimators does not fit new trees.\n",
            "  warn(\n",
            "<ipython-input-7-3ff00dc4ed98>:29: DataConversionWarning: A column-vector y was passed when a 1d array was expected. Please change the shape of y to (n_samples,), for example using ravel().\n",
            "  modelo = classifier.fit(Xtrain, ytrain)\n",
            "/usr/local/lib/python3.10/dist-packages/sklearn/ensemble/_forest.py:452: UserWarning: Warm-start fitting without increasing n_estimators does not fit new trees.\n",
            "  warn(\n"
          ]
        },
        {
          "output_type": "stream",
          "name": "stdout",
          "text": [
            "Best val auc:  0.8190\n",
            "\n",
            "[[ 949  360]\n",
            " [ 122 1210]]\n",
            "              precision    recall  f1-score   support\n",
            "\n",
            "           0     0.8861    0.7250    0.7975      1309\n",
            "           1     0.7707    0.9084    0.8339      1332\n",
            "\n",
            "    accuracy                         0.8175      2641\n",
            "   macro avg     0.8284    0.8167    0.8157      2641\n",
            "weighted avg     0.8279    0.8175    0.8159      2641\n",
            "\n",
            "Best val auc:  0.8167\n"
          ]
        },
        {
          "output_type": "stream",
          "name": "stderr",
          "text": [
            "<ipython-input-7-3ff00dc4ed98>:29: DataConversionWarning: A column-vector y was passed when a 1d array was expected. Please change the shape of y to (n_samples,), for example using ravel().\n",
            "  modelo = classifier.fit(Xtrain, ytrain)\n",
            "/usr/local/lib/python3.10/dist-packages/sklearn/ensemble/_forest.py:452: UserWarning: Warm-start fitting without increasing n_estimators does not fit new trees.\n",
            "  warn(\n",
            "<ipython-input-7-3ff00dc4ed98>:29: DataConversionWarning: A column-vector y was passed when a 1d array was expected. Please change the shape of y to (n_samples,), for example using ravel().\n",
            "  modelo = classifier.fit(Xtrain, ytrain)\n",
            "/usr/local/lib/python3.10/dist-packages/sklearn/ensemble/_forest.py:452: UserWarning: Warm-start fitting without increasing n_estimators does not fit new trees.\n",
            "  warn(\n"
          ]
        },
        {
          "output_type": "stream",
          "name": "stdout",
          "text": [
            "\n",
            "[[ 946  381]\n",
            " [ 110 1204]]\n",
            "              precision    recall  f1-score   support\n",
            "\n",
            "           0     0.8958    0.7129    0.7940      1327\n",
            "           1     0.7596    0.9163    0.8306      1314\n",
            "\n",
            "    accuracy                         0.8141      2641\n",
            "   macro avg     0.8277    0.8146    0.8123      2641\n",
            "weighted avg     0.8281    0.8141    0.8122      2641\n",
            "\n",
            "Best val auc:  0.8146\n",
            "\n",
            "[[ 973  389]\n",
            " [ 108 1171]]\n",
            "              precision    recall  f1-score   support\n",
            "\n",
            "           0     0.9001    0.7144    0.7966      1362\n",
            "           1     0.7506    0.9156    0.8249      1279\n",
            "\n",
            "    accuracy                         0.8118      2641\n",
            "   macro avg     0.8254    0.8150    0.8107      2641\n",
            "weighted avg     0.8277    0.8118    0.8103      2641\n",
            "\n",
            "Best val auc:  0.8150\n",
            "\n",
            "[[ 921  353]\n",
            " [ 129 1238]]\n",
            "              precision    recall  f1-score   support\n",
            "\n",
            "           0     0.8771    0.7229    0.7926      1274\n",
            "           1     0.7781    0.9056    0.8371      1367\n",
            "\n",
            "    accuracy                         0.8175      2641\n",
            "   macro avg     0.8276    0.8143    0.8148      2641\n",
            "weighted avg     0.8259    0.8175    0.8156      2641\n",
            "\n",
            "Best val auc:  0.8143\n"
          ]
        },
        {
          "output_type": "stream",
          "name": "stderr",
          "text": [
            "<ipython-input-7-3ff00dc4ed98>:29: DataConversionWarning: A column-vector y was passed when a 1d array was expected. Please change the shape of y to (n_samples,), for example using ravel().\n",
            "  modelo = classifier.fit(Xtrain, ytrain)\n",
            "/usr/local/lib/python3.10/dist-packages/sklearn/ensemble/_forest.py:452: UserWarning: Warm-start fitting without increasing n_estimators does not fit new trees.\n",
            "  warn(\n",
            "<ipython-input-7-3ff00dc4ed98>:29: DataConversionWarning: A column-vector y was passed when a 1d array was expected. Please change the shape of y to (n_samples,), for example using ravel().\n",
            "  modelo = classifier.fit(Xtrain, ytrain)\n",
            "/usr/local/lib/python3.10/dist-packages/sklearn/ensemble/_forest.py:452: UserWarning: Warm-start fitting without increasing n_estimators does not fit new trees.\n",
            "  warn(\n"
          ]
        },
        {
          "output_type": "stream",
          "name": "stdout",
          "text": [
            "\n",
            "[[ 985  351]\n",
            " [ 110 1195]]\n",
            "              precision    recall  f1-score   support\n",
            "\n",
            "           0     0.8995    0.7373    0.8104      1336\n",
            "           1     0.7730    0.9157    0.8383      1305\n",
            "\n",
            "    accuracy                         0.8254      2641\n",
            "   macro avg     0.8363    0.8265    0.8243      2641\n",
            "weighted avg     0.8370    0.8254    0.8242      2641\n",
            "\n",
            "Best val auc:  0.8265\n",
            "\n",
            "[[ 920  397]\n",
            " [ 120 1204]]\n",
            "              precision    recall  f1-score   support\n",
            "\n",
            "           0     0.8846    0.6986    0.7807      1317\n",
            "           1     0.7520    0.9094    0.8232      1324\n",
            "\n",
            "    accuracy                         0.8042      2641\n",
            "   macro avg     0.8183    0.8040    0.8020      2641\n",
            "weighted avg     0.8181    0.8042    0.8020      2641\n",
            "\n"
          ]
        },
        {
          "output_type": "stream",
          "name": "stderr",
          "text": [
            "<ipython-input-7-3ff00dc4ed98>:29: DataConversionWarning: A column-vector y was passed when a 1d array was expected. Please change the shape of y to (n_samples,), for example using ravel().\n",
            "  modelo = classifier.fit(Xtrain, ytrain)\n",
            "/usr/local/lib/python3.10/dist-packages/sklearn/ensemble/_forest.py:452: UserWarning: Warm-start fitting without increasing n_estimators does not fit new trees.\n",
            "  warn(\n",
            "<ipython-input-7-3ff00dc4ed98>:29: DataConversionWarning: A column-vector y was passed when a 1d array was expected. Please change the shape of y to (n_samples,), for example using ravel().\n",
            "  modelo = classifier.fit(Xtrain, ytrain)\n",
            "/usr/local/lib/python3.10/dist-packages/sklearn/ensemble/_forest.py:452: UserWarning: Warm-start fitting without increasing n_estimators does not fit new trees.\n",
            "  warn(\n"
          ]
        },
        {
          "output_type": "stream",
          "name": "stdout",
          "text": [
            "Best val auc:  0.8040\n",
            "\n",
            "[[ 955  369]\n",
            " [ 121 1196]]\n",
            "              precision    recall  f1-score   support\n",
            "\n",
            "           0     0.8875    0.7213    0.7958      1324\n",
            "           1     0.7642    0.9081    0.8300      1317\n",
            "\n",
            "    accuracy                         0.8145      2641\n",
            "   macro avg     0.8259    0.8147    0.8129      2641\n",
            "weighted avg     0.8260    0.8145    0.8129      2641\n",
            "\n",
            "Best val auc:  0.8147\n",
            "\n",
            "[[ 965  363]\n",
            " [ 117 1195]]\n",
            "              precision    recall  f1-score   support\n",
            "\n",
            "           0     0.8919    0.7267    0.8008      1328\n",
            "           1     0.7670    0.9108    0.8328      1312\n",
            "\n",
            "    accuracy                         0.8182      2640\n",
            "   macro avg     0.8294    0.8187    0.8168      2640\n",
            "weighted avg     0.8298    0.8182    0.8167      2640\n",
            "\n",
            "Best val auc:  0.8187\n"
          ]
        },
        {
          "output_type": "stream",
          "name": "stderr",
          "text": [
            "<ipython-input-7-3ff00dc4ed98>:29: DataConversionWarning: A column-vector y was passed when a 1d array was expected. Please change the shape of y to (n_samples,), for example using ravel().\n",
            "  modelo = classifier.fit(Xtrain, ytrain)\n",
            "/usr/local/lib/python3.10/dist-packages/sklearn/ensemble/_forest.py:452: UserWarning: Warm-start fitting without increasing n_estimators does not fit new trees.\n",
            "  warn(\n"
          ]
        }
      ]
    },
    {
      "cell_type": "markdown",
      "source": [
        "**5. Curva ROC: RandomForest**"
      ],
      "metadata": {
        "id": "kwJKeyFvHvd_"
      }
    },
    {
      "cell_type": "code",
      "source": [
        "classes = classifier.predict(Xtest)\n",
        "ns_probs = [0 for _ in range(len(ytest))]\n",
        "ns_auc = roc_auc_score(ytest, ns_probs,average='weighted')\n",
        "classifier_auc = roc_auc_score(ytest,classes,average='weighted')\n",
        "#aps = average_precision_score(ytest, ns_probs)\n",
        "print()\n",
        "#print(\"Average_presicion_score \"+str(aps))\n",
        "print('Sin entrenar: ROC AUC=%.3f' % (ns_auc))\n",
        "print('Algoritmo RandomForest: ROC AUC=%.3f' % (classifier_auc))\n",
        "print()\n",
        "classifier_probs = classes[:]\n",
        "ns_fpr, ns_tpr, _ = roc_curve(ytest, ns_probs)\n",
        "pyplot.plot(ns_fpr, ns_tpr, linestyle='--', label='Sin entrenar')\n",
        "classifier_fpr,classifier_tpr, _ = roc_curve(ytest, classifier_probs)\n",
        "print()\n",
        "pyplot.plot(classifier_fpr,classifier_tpr, marker='.', label='Curva modelo Random Forest')\n",
        "pyplot.xlabel('Tasa de Falsos Positivos')\n",
        "pyplot.ylabel('Tasa de Verdaderos Positivos')\n",
        "pyplot.legend()\n",
        "pyplot.show()"
      ],
      "metadata": {
        "colab": {
          "base_uri": "https://localhost:8080/",
          "height": 536
        },
        "id": "ftZ2DbfFHyZu",
        "outputId": "4b4175ce-04ff-46ae-a806-ab952d8a9687"
      },
      "execution_count": 8,
      "outputs": [
        {
          "output_type": "stream",
          "name": "stdout",
          "text": [
            "\n",
            "Sin entrenar: ROC AUC=0.500\n",
            "Algoritmo RandomForest: ROC AUC=0.819\n",
            "\n",
            "\n"
          ]
        },
        {
          "output_type": "display_data",
          "data": {
            "text/plain": [
              "<Figure size 640x480 with 1 Axes>"
            ],
            "image/png": "[encoded data removed]"
          },
          "metadata": {}
        }
      ]
    }
  ]
}