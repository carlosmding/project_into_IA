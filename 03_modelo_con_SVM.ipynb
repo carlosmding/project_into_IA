{
  "nbformat": 4,
  "nbformat_minor": 0,
  "metadata": {
    "colab": {
      "provenance": [],
      "include_colab_link": true
    },
    "kernelspec": {
      "name": "python3",
      "display_name": "Python 3"
    },
    "language_info": {
      "name": "python"
    }
  },
  "cells": [
    {
      "cell_type": "markdown",
      "metadata": {
        "id": "view-in-github",
        "colab_type": "text"
      },
      "source": [
        "<a href=\"https://colab.research.google.com/github/carlosmding/project_intro_IA/blob/main/03_modelo_con_SVM.ipynb\" target=\"_parent\"><img src=\"https://colab.research.google.com/assets/colab-badge.svg\" alt=\"Open In Colab\"/></a>"
      ]
    },
    {
      "cell_type": "code",
      "execution_count": 2,
      "metadata": {
        "id": "t6lbl0qXMB4V"
      },
      "outputs": [],
      "source": [
        "import pandas as pd\n",
        "import numpy as np\n",
        "import math\n",
        "from seaborn import distplot\n",
        "import seaborn as sns\n",
        "import matplotlib.pyplot as plt\n",
        "from sklearn.preprocessing import StandardScaler\n",
        "from sklearn.preprocessing import MinMaxScaler\n",
        "from sklearn.model_selection import KFold\n",
        "from sklearn.metrics import f1_score\n",
        "from sklearn.metrics import confusion_matrix\n",
        "from sklearn.metrics import classification_report\n",
        "from sklearn.pipeline import make_pipeline\n",
        "from sklearn.model_selection import train_test_split\n",
        "from sklearn.metrics import median_absolute_error, r2_score, mean_squared_error\n",
        "from matplotlib.patches import split_path_inout\n",
        "from imblearn.over_sampling import RandomOverSampler\n",
        "from sklearn.metrics import average_precision_score\n",
        "from sklearn.metrics import roc_auc_score\n",
        "from sklearn.metrics import roc_curve, auc\n",
        "from matplotlib import pyplot\n",
        "from sklearn.svm import SVC\n",
        "from sklearn import svm, datasets\n",
        "from sklearn.model_selection import GridSearchCV\n",
        "from sklearn.decomposition import PCA"
      ]
    },
    {
      "cell_type": "markdown",
      "source": [
        "**1. Cargar Dataset**"
      ],
      "metadata": {
        "id": "MccJMVKcM4Q-"
      }
    },
    {
      "cell_type": "markdown",
      "source": [
        "Se carga el dataset final luego del preprocesamiento. Se cargan los archivos Dataset.csv y y.csv"
      ],
      "metadata": {
        "id": "Z0h76tSgMrsi"
      }
    },
    {
      "cell_type": "code",
      "source": [
        "X = pd.read_csv('Dataset.csv', sep=\",\") \n",
        "y = pd.read_csv('y.csv', sep=\",\") \n",
        "\n",
        "X=X.drop(columns=['Unnamed: 0'])\n",
        "y=y.drop(columns=['Unnamed: 0'])\n"
      ],
      "metadata": {
        "id": "ip2pP7OyNBkF"
      },
      "execution_count": 13,
      "outputs": []
    },
    {
      "cell_type": "markdown",
      "source": [
        "**2. Generador de muestras sintéticas**"
      ],
      "metadata": {
        "id": "WJ7KGEyvPUZU"
      }
    },
    {
      "cell_type": "code",
      "source": [
        "pca=PCA(n_components=30) \n",
        "pca.fit(X) #\n",
        "X_pca=pca.transform(X)"
      ],
      "metadata": {
        "id": "dt9c9ihBPZbr"
      },
      "execution_count": 14,
      "outputs": []
    },
    {
      "cell_type": "code",
      "source": [
        "ros = RandomOverSampler(random_state=42, sampling_strategy=1.0)                          \n",
        "Xres, yres = ros.fit_resample(X_pca, y)\n",
        "Xtrain, Xtst, ytrain, ytst = train_test_split(Xres,yres, test_size=0.1) #Se toma el 90 % de los datos para Entrenar\n",
        "print (Xtrain.shape, ytrain.shape, Xtst.shape, ytst.shape)\n",
        "X=Xtrain\n",
        "y=ytrain"
      ],
      "metadata": {
        "colab": {
          "base_uri": "https://localhost:8080/"
        },
        "id": "YRuOcTzGPwhE",
        "outputId": "239edf26-15b6-4e48-d82a-2651df1de77d"
      },
      "execution_count": 17,
      "outputs": [
        {
          "output_type": "stream",
          "name": "stdout",
          "text": [
            "(26409, 30) (26409, 1) (2935, 30) (2935, 1)\n"
          ]
        }
      ]
    },
    {
      "cell_type": "markdown",
      "source": [
        "**3. Calculo pesos de la clase Parametro que se usa para minimizar el efecto del desbalance del dataset**"
      ],
      "metadata": {
        "id": "lz3-yH5_P3Y8"
      }
    },
    {
      "cell_type": "code",
      "source": [
        "def dar_peso_clase():\n",
        "  Xtrain, Xtest, ytrain, ytest = train_test_split(X, y, test_size = 0.2, train_size = 0.8, random_state = 17)\n",
        "  Number_Muestras_por_Clase = ytrain.value_counts()\n",
        "  Number_Muestras_por_Clase = Number_Muestras_por_Clase.sort_index(axis = 0, ascending = True)\n",
        "  Numero_de_Clases = len(Number_Muestras_por_Clase.index)\n",
        "  Peso_por_Clase = len(ytrain)/(Numero_de_Clases*Number_Muestras_por_Clase)\n",
        "  return Peso_por_Clase"
      ],
      "metadata": {
        "id": "aqvQ0j4ZQEua"
      },
      "execution_count": 19,
      "outputs": []
    },
    {
      "cell_type": "markdown",
      "source": [
        "**4. Maquina de soporte vectorial** https://scikit-learn.org/stable/modules/generated/sklearn.svm.SVC.html"
      ],
      "metadata": {
        "id": "E1sMORJ5Qc_e"
      }
    },
    {
      "cell_type": "markdown",
      "source": [
        "**4.1 Calculo de parametros**"
      ],
      "metadata": {
        "id": "98IZyCY0QufE"
      }
    },
    {
      "cell_type": "code",
      "source": [
        "from sklearn.utils.fixes import loguniform\n",
        "param_grid = {'kernel': ['rbf'], 'C':[1, 10, 20],\n",
        "              'gamma': [1e-3, 1e-4] ,\n",
        "              \n",
        "              } \n",
        "#'tol':[1e-3, 1e-4],           \n",
        "#  'decision_function_shape':['ovo', 'ovr']\n",
        "\n",
        "svc = svm.SVC(gamma=\"scale\")\n",
        "clf = GridSearchCV(svc, param_grid, cv=5,n_jobs=2)\n",
        "clf.fit(X, y) \n",
        "parametros = pd.concat([pd.DataFrame(clf.cv_results_[\"params\"]),\n",
        "                pd.DataFrame(clf.cv_results_[\"mean_test_score\"],\n",
        "                columns=[\"Accuracy\"])],axis=1)\n",
        "print(parametros)"
      ],
      "metadata": {
        "colab": {
          "base_uri": "https://localhost:8080/"
        },
        "id": "uiSQS7y8QrXD",
        "outputId": "bf5e4de1-a39c-453f-a596-e8565366c23d"
      },
      "execution_count": 20,
      "outputs": [
        {
          "output_type": "stream",
          "name": "stderr",
          "text": [
            "/usr/local/lib/python3.10/dist-packages/sklearn/utils/validation.py:1143: DataConversionWarning: A column-vector y was passed when a 1d array was expected. Please change the shape of y to (n_samples, ), for example using ravel().\n",
            "  y = column_or_1d(y, warn=True)\n"
          ]
        },
        {
          "output_type": "stream",
          "name": "stdout",
          "text": [
            "    C   gamma kernel  Accuracy\n",
            "0   1  0.0010    rbf  0.719376\n",
            "1   1  0.0001    rbf  0.718921\n",
            "2  10  0.0010    rbf  0.722822\n",
            "3  10  0.0001    rbf  0.719376\n",
            "4  20  0.0010    rbf  0.722822\n",
            "5  20  0.0001    rbf  0.719376\n"
          ]
        }
      ]
    },
    {
      "cell_type": "code",
      "source": [
        "kf = KFold(n_splits=5, random_state = True,shuffle=True)\n",
        "c=1\n",
        "weight= dar_peso_clase()\n",
        "X_test =0\n",
        "y_test =0\n",
        "#degree =3 los resultados fueron regulares con el kernel =\"poly\" , no calcula area AUC\n",
        "\n",
        "svclassifier = SVC(C=c,kernel=\"rbf\", degree=3, gamma='auto',shrinking=True,tol=0.00010,\n",
        "                   class_weight = {0: weight[0], 1: weight[1]},\n",
        "                   decision_function_shape='ovr')\n",
        "\n",
        "for train_index, test_index in kf.split(X):\n",
        "    X_train, X_test = X[train_index], X[test_index]\n",
        "    y_train, y_test = y.iloc[train_index], y.iloc[test_index]\n",
        "\n",
        "    modelo = svclassifier.fit(X_train, y_train)\n",
        "    y_pred = modelo.predict(X_test)\n",
        "    print()\n",
        "    \n",
        "    print(confusion_matrix(y_test, y_pred))\n",
        "    print(classification_report(y_test, y_pred, digits =6, labels=[0,1],zero_division=1))\n",
        "    s = roc_auc_score(y_test, modelo.predict(X_test))\n",
        "    print(f'Best val auc: {s: .4f}')\n",
        "    print()"
      ],
      "metadata": {
        "colab": {
          "base_uri": "https://localhost:8080/"
        },
        "id": "O7XqkpeTQ7iC",
        "outputId": "f9e4482f-83cc-4b3f-fcf3-f699a4b32565"
      },
      "execution_count": 21,
      "outputs": [
        {
          "output_type": "stream",
          "name": "stderr",
          "text": [
            "/usr/local/lib/python3.10/dist-packages/sklearn/utils/validation.py:1143: DataConversionWarning: A column-vector y was passed when a 1d array was expected. Please change the shape of y to (n_samples, ), for example using ravel().\n",
            "  y = column_or_1d(y, warn=True)\n"
          ]
        },
        {
          "output_type": "stream",
          "name": "stdout",
          "text": [
            "\n",
            "[[1240 1433]\n",
            " [  53 2556]]\n",
            "              precision    recall  f1-score   support\n",
            "\n",
            "           0   0.959010  0.463898  0.625315      2673\n",
            "           1   0.640762  0.979686  0.774780      2609\n",
            "\n",
            "    accuracy                       0.718667      5282\n",
            "   macro avg   0.799886  0.721792  0.700048      5282\n",
            "weighted avg   0.801814  0.718667  0.699142      5282\n",
            "\n",
            "Best val auc:  0.7218\n",
            "\n"
          ]
        },
        {
          "output_type": "stream",
          "name": "stderr",
          "text": [
            "/usr/local/lib/python3.10/dist-packages/sklearn/utils/validation.py:1143: DataConversionWarning: A column-vector y was passed when a 1d array was expected. Please change the shape of y to (n_samples, ), for example using ravel().\n",
            "  y = column_or_1d(y, warn=True)\n"
          ]
        },
        {
          "output_type": "stream",
          "name": "stdout",
          "text": [
            "\n",
            "[[1176 1420]\n",
            " [  43 2643]]\n",
            "              precision    recall  f1-score   support\n",
            "\n",
            "           0   0.964725  0.453005  0.616514      2596\n",
            "           1   0.650505  0.983991  0.783227      2686\n",
            "\n",
            "    accuracy                       0.723022      5282\n",
            "   macro avg   0.807615  0.718498  0.699870      5282\n",
            "weighted avg   0.804938  0.723022  0.701291      5282\n",
            "\n",
            "Best val auc:  0.7185\n",
            "\n"
          ]
        },
        {
          "output_type": "stream",
          "name": "stderr",
          "text": [
            "/usr/local/lib/python3.10/dist-packages/sklearn/utils/validation.py:1143: DataConversionWarning: A column-vector y was passed when a 1d array was expected. Please change the shape of y to (n_samples, ), for example using ravel().\n",
            "  y = column_or_1d(y, warn=True)\n"
          ]
        },
        {
          "output_type": "stream",
          "name": "stdout",
          "text": [
            "\n",
            "[[1227 1412]\n",
            " [  49 2594]]\n",
            "              precision    recall  f1-score   support\n",
            "\n",
            "           0   0.961599  0.464949  0.626820      2639\n",
            "           1   0.647529  0.981460  0.780268      2643\n",
            "\n",
            "    accuracy                       0.723400      5282\n",
            "   macro avg   0.804564  0.723205  0.703544      5282\n",
            "weighted avg   0.804445  0.723400  0.703602      5282\n",
            "\n",
            "Best val auc:  0.7232\n",
            "\n"
          ]
        },
        {
          "output_type": "stream",
          "name": "stderr",
          "text": [
            "/usr/local/lib/python3.10/dist-packages/sklearn/utils/validation.py:1143: DataConversionWarning: A column-vector y was passed when a 1d array was expected. Please change the shape of y to (n_samples, ), for example using ravel().\n",
            "  y = column_or_1d(y, warn=True)\n"
          ]
        },
        {
          "output_type": "stream",
          "name": "stdout",
          "text": [
            "\n",
            "[[1236 1421]\n",
            " [  58 2567]]\n",
            "              precision    recall  f1-score   support\n",
            "\n",
            "           0   0.955178  0.465186  0.625664      2657\n",
            "           1   0.643681  0.977905  0.776350      2625\n",
            "\n",
            "    accuracy                       0.719992      5282\n",
            "   macro avg   0.799429  0.721546  0.701007      5282\n",
            "weighted avg   0.800373  0.719992  0.700551      5282\n",
            "\n",
            "Best val auc:  0.7215\n",
            "\n"
          ]
        },
        {
          "output_type": "stream",
          "name": "stderr",
          "text": [
            "/usr/local/lib/python3.10/dist-packages/sklearn/utils/validation.py:1143: DataConversionWarning: A column-vector y was passed when a 1d array was expected. Please change the shape of y to (n_samples, ), for example using ravel().\n",
            "  y = column_or_1d(y, warn=True)\n"
          ]
        },
        {
          "output_type": "stream",
          "name": "stdout",
          "text": [
            "\n",
            "[[1291 1380]\n",
            " [  54 2556]]\n",
            "              precision    recall  f1-score   support\n",
            "\n",
            "           0   0.959851  0.483340  0.642928      2671\n",
            "           1   0.649390  0.979310  0.780935      2610\n",
            "\n",
            "    accuracy                       0.728461      5281\n",
            "   macro avg   0.804621  0.731325  0.711932      5281\n",
            "weighted avg   0.806414  0.728461  0.711135      5281\n",
            "\n",
            "Best val auc:  0.7313\n",
            "\n"
          ]
        }
      ]
    },
    {
      "cell_type": "markdown",
      "source": [
        "**Curva ROC Modelo maquina de soporte Vectorial SVC**\n"
      ],
      "metadata": {
        "id": "S5IPYJQNRGGT"
      }
    },
    {
      "cell_type": "code",
      "source": [
        "#Curva ROC\n",
        "classes = svclassifier.predict(X_test)\n",
        "ns_probs = [0 for _ in range(len(y_test))]\n",
        "ns_auc = roc_auc_score(y_test, ns_probs,average='weighted')\n",
        "svclassifier_auc = roc_auc_score(y_test,classes,average='weighted')\n",
        "aps = average_precision_score(y_test, ns_probs)\n",
        "\n",
        "print(\"Average_presicion_score \"+str(aps))\n",
        "print('Sin entrenar: ROC AUC=%.3f' % (ns_auc))\n",
        "print('Algoritmo SVC: ROC AUC=%.3f' % (svclassifier_auc))\n",
        "svclassifier_probs = classes[:]\n",
        "ns_fpr, ns_tpr, _ = roc_curve(y_test, ns_probs)\n",
        "pyplot.plot(ns_fpr, ns_tpr, linestyle='--', label='Sin entrenar')\n",
        "svclassifier_fpr, classifier_tpr, _ = roc_curve(y_test, svclassifier_probs)\n",
        "print()\n",
        "pyplot.plot(svclassifier_fpr, classifier_tpr, marker='.', label='Curva Maquina de soporte vectorial')\n",
        "pyplot.xlabel('Tasa de Falsos Positivos')\n",
        "pyplot.ylabel('Tasa de Verdaderos Positivos')\n",
        "pyplot.legend()\n",
        "pyplot.show()\n",
        "print()"
      ],
      "metadata": {
        "colab": {
          "base_uri": "https://localhost:8080/",
          "height": 536
        },
        "id": "04ObHok5RMpa",
        "outputId": "50075e27-001f-4acf-c58b-951cf6606359"
      },
      "execution_count": 22,
      "outputs": [
        {
          "output_type": "stream",
          "name": "stdout",
          "text": [
            "Average_presicion_score 0.4942245786782806\n",
            "Sin entrenar: ROC AUC=0.500\n",
            "Algoritmo SVC: ROC AUC=0.731\n",
            "\n"
          ]
        },
        {
          "output_type": "display_data",
          "data": {
            "text/plain": [
              "<Figure size 640x480 with 1 Axes>"
            ],
            "image/png": "[encoded data removed]"
          },
          "metadata": {}
        },
        {
          "output_type": "stream",
          "name": "stdout",
          "text": [
            "\n"
          ]
        }
      ]
    }
  ]
}