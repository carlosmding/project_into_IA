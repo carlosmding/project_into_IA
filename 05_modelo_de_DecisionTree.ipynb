{
  "nbformat": 4,
  "nbformat_minor": 0,
  "metadata": {
    "colab": {
      "provenance": [],
      "include_colab_link": true
    },
    "kernelspec": {
      "name": "python3",
      "display_name": "Python 3"
    },
    "language_info": {
      "name": "python"
    }
  },
  "cells": [
    {
      "cell_type": "markdown",
      "metadata": {
        "id": "view-in-github",
        "colab_type": "text"
      },
      "source": [
        "<a href=\"https://colab.research.google.com/github/carlosmding/project_intro_IA/blob/main/05_modelo_de_DecisionTree.ipynb\" target=\"_parent\"><img src=\"https://colab.research.google.com/assets/colab-badge.svg\" alt=\"Open In Colab\"/></a>"
      ]
    },
    {
      "cell_type": "code",
      "execution_count": 1,
      "metadata": {
        "id": "SYMJ0qECxqhQ"
      },
      "outputs": [],
      "source": [
        "import pandas as pd\n",
        "import numpy as np\n",
        "import math\n",
        "from seaborn import distplot\n",
        "import seaborn as sns\n",
        "import matplotlib.pyplot as plt\n",
        "from sklearn.preprocessing import StandardScaler\n",
        "from sklearn.preprocessing import MinMaxScaler\n",
        "from sklearn.model_selection import KFold\n",
        "from sklearn.metrics import f1_score\n",
        "from sklearn.metrics import confusion_matrix\n",
        "from sklearn.metrics import classification_report\n",
        "from sklearn.pipeline import make_pipeline\n",
        "\n",
        "from sklearn.tree import DecisionTreeClassifier\n",
        "from sklearn.model_selection import train_test_split\n",
        "from sklearn.metrics import median_absolute_error, r2_score, mean_squared_error\n",
        "from matplotlib.patches import split_path_inout\n",
        "from imblearn.over_sampling import RandomOverSampler\n",
        "from sklearn.metrics import average_precision_score\n",
        "from sklearn.metrics import roc_auc_score\n",
        "from sklearn.metrics import roc_curve, auc\n",
        "from matplotlib import pyplot\n",
        "\n",
        "from sklearn.model_selection import GridSearchCV\n",
        "\n",
        "from collections import Counter\n",
        "from sklearn.datasets import make_classification\n",
        "from imblearn.over_sampling import RandomOverSampler\n",
        "\n",
        "from sklearn.decomposition import PCA\n",
        "from sklearn.linear_model import LassoCV\n",
        "from sklearn.metrics import roc_auc_score"
      ]
    },
    {
      "cell_type": "markdown",
      "source": [
        "**1. Cargar del dataset**"
      ],
      "metadata": {
        "id": "3yb_mNb9yffL"
      }
    },
    {
      "cell_type": "markdown",
      "source": [
        "Se carga el dataset final luego del preprocesamiento. Se cargan los archivos Dataset.csv y y.csv"
      ],
      "metadata": {
        "id": "tOdUr1VAW9LJ"
      }
    },
    {
      "cell_type": "code",
      "source": [
        "X = pd.read_csv('Dataset.csv', sep=\",\") \n",
        "y = pd.read_csv('y.csv', sep=\",\") \n",
        "\n",
        "X=X.drop(columns=['Unnamed: 0'])\n",
        "y=y.drop(columns=['Unnamed: 0'])\n"
      ],
      "metadata": {
        "id": "bMMV67jdxxXR"
      },
      "execution_count": 2,
      "outputs": []
    },
    {
      "cell_type": "markdown",
      "source": [
        "**2. Generador de muestras sintéticas**"
      ],
      "metadata": {
        "id": "3wl8bni52jWU"
      }
    },
    {
      "cell_type": "code",
      "source": [
        "pca=PCA(n_components=30) \n",
        "pca.fit(X) #\n",
        "X_pca=pca.transform(X)"
      ],
      "metadata": {
        "id": "IzM0xAV52mZ4"
      },
      "execution_count": 3,
      "outputs": []
    },
    {
      "cell_type": "code",
      "source": [
        "ros = RandomOverSampler(random_state=42, sampling_strategy=1.0)                          \n",
        "Xres, yres = ros.fit_resample(X_pca, y)\n",
        "Xtrain, Xtst, ytrain, ytst = train_test_split(Xres,yres, test_size=0.1) #Se toma el 90 % de los datos para Entrenar\n",
        "print (Xtrain.shape, ytrain.shape, Xtst.shape, ytst.shape)\n",
        "X=Xtrain\n",
        "y=ytrain"
      ],
      "metadata": {
        "colab": {
          "base_uri": "https://localhost:8080/"
        },
        "id": "Tl1xVy1_2vmx",
        "outputId": "32090598-af4c-4926-cc44-16a4ffe73663"
      },
      "execution_count": 4,
      "outputs": [
        {
          "output_type": "stream",
          "name": "stdout",
          "text": [
            "(26409, 30) (26409, 1) (2935, 30) (2935, 1)\n"
          ]
        }
      ]
    },
    {
      "cell_type": "markdown",
      "source": [
        "**3. Cálculo pesos de la clase Parámetro que se usa para minimizar el efecto del desbalance del dataset**"
      ],
      "metadata": {
        "id": "XjTt55rR29bz"
      }
    },
    {
      "cell_type": "code",
      "source": [
        "def dar_peso_clase():\n",
        "  Xtrain, Xtest, ytrain, ytest = train_test_split(X, y, test_size = 0.2, train_size = 0.8, random_state = 17)\n",
        "  Number_Muestras_por_Clase = ytrain.value_counts()\n",
        "  Number_Muestras_por_Clase = Number_Muestras_por_Clase.sort_index(axis = 0, ascending = True)\n",
        "  Numero_de_Clases = len(Number_Muestras_por_Clase.index)\n",
        "  Peso_por_Clase = len(ytrain)/(Numero_de_Clases*Number_Muestras_por_Clase)\n",
        "  return Peso_por_Clase"
      ],
      "metadata": {
        "id": "9sr6Uc_e3AgT"
      },
      "execution_count": 5,
      "outputs": []
    },
    {
      "cell_type": "markdown",
      "source": [
        "**4. Modelo DecisionTreeClassifier https://scikit-learn.org/stable/modules/generated/sklearn.tree.DecisionTreeClassifier.html**"
      ],
      "metadata": {
        "id": "Ve1qYr7S3Orh"
      }
    },
    {
      "cell_type": "code",
      "source": [
        "#Entrenamiento del modelo  DecisionTreeClassifier con el 90% de las muestras\n",
        "#=================================================================================================================\n",
        "kf = KFold(n_splits=20, random_state = True,shuffle=True)\n",
        "\n",
        "preds = []\n",
        "scores = []\n",
        "\n",
        "weight= dar_peso_clase()\n",
        "\n",
        "classifier = DecisionTreeClassifier(criterion='gini', \n",
        "                                    ccp_alpha=0.0000001,\n",
        "                                    min_samples_split=10,\n",
        "                                    class_weight= {0: weight[0], 1: weight[1]},\n",
        "                                    random_state=42,\n",
        "                                    max_features=\"sqrt\",min_impurity_decrease=0.0\n",
        "                                    )  #\"log2\"\n",
        "                                \n",
        "X_test =0\n",
        "y_test =0\n",
        "for train_index, test_index in kf.split(X):\n",
        "\n",
        "    X_train, X_test = X[train_index], X[test_index]  #linea de código para pca\n",
        "    y_train, y_test = y.iloc[train_index], y.iloc[test_index]\n",
        "\n",
        "    #modelo = LassoCV(**model_params)\n",
        "    modelo = classifier.fit(X_train, y_train)\n",
        "    y_pred = modelo.predict(X_test)\n",
        "\n",
        "    print()\n",
        "    print(confusion_matrix(y_test, y_pred))\n",
        "    print(classification_report(y_test, y_pred, digits =4, labels=[0,1]))\n",
        "    preds.append(modelo.predict(X_test))\n",
        "    s = roc_auc_score(y_test, modelo.predict(X_test))\n",
        "    print(f'Best val auc: {s: .4f}')\n",
        "    scores.append(s)\n",
        "    print()"
      ],
      "metadata": {
        "colab": {
          "base_uri": "https://localhost:8080/"
        },
        "id": "KYt_6S2m3Sxb",
        "outputId": "021e7903-bc1e-4a17-a421-803409dc8d2d"
      },
      "execution_count": 6,
      "outputs": [
        {
          "output_type": "stream",
          "name": "stdout",
          "text": [
            "\n",
            "[[466 182]\n",
            " [ 53 620]]\n",
            "              precision    recall  f1-score   support\n",
            "\n",
            "           0     0.8979    0.7191    0.7986       648\n",
            "           1     0.7731    0.9212    0.8407       673\n",
            "\n",
            "    accuracy                         0.8221      1321\n",
            "   macro avg     0.8355    0.8202    0.8197      1321\n",
            "weighted avg     0.8343    0.8221    0.8201      1321\n",
            "\n",
            "Best val auc:  0.8202\n",
            "\n",
            "\n",
            "[[474 175]\n",
            " [ 90 582]]\n",
            "              precision    recall  f1-score   support\n",
            "\n",
            "           0     0.8404    0.7304    0.7815       649\n",
            "           1     0.7688    0.8661    0.8146       672\n",
            "\n",
            "    accuracy                         0.7994      1321\n",
            "   macro avg     0.8046    0.7982    0.7980      1321\n",
            "weighted avg     0.8040    0.7994    0.7983      1321\n",
            "\n",
            "Best val auc:  0.7982\n",
            "\n",
            "\n",
            "[[443 195]\n",
            " [ 57 626]]\n",
            "              precision    recall  f1-score   support\n",
            "\n",
            "           0     0.8860    0.6944    0.7786       638\n",
            "           1     0.7625    0.9165    0.8324       683\n",
            "\n",
            "    accuracy                         0.8092      1321\n",
            "   macro avg     0.8242    0.8055    0.8055      1321\n",
            "weighted avg     0.8221    0.8092    0.8064      1321\n",
            "\n",
            "Best val auc:  0.8055\n",
            "\n",
            "\n",
            "[[444 205]\n",
            " [ 71 601]]\n",
            "              precision    recall  f1-score   support\n",
            "\n",
            "           0     0.8621    0.6841    0.7629       649\n",
            "           1     0.7457    0.8943    0.8133       672\n",
            "\n",
            "    accuracy                         0.7911      1321\n",
            "   macro avg     0.8039    0.7892    0.7881      1321\n",
            "weighted avg     0.8029    0.7911    0.7885      1321\n",
            "\n",
            "Best val auc:  0.7892\n",
            "\n",
            "\n",
            "[[455 197]\n",
            " [ 61 608]]\n",
            "              precision    recall  f1-score   support\n",
            "\n",
            "           0     0.8818    0.6979    0.7791       652\n",
            "           1     0.7553    0.9088    0.8250       669\n",
            "\n",
            "    accuracy                         0.8047      1321\n",
            "   macro avg     0.8185    0.8033    0.8020      1321\n",
            "weighted avg     0.8177    0.8047    0.8023      1321\n",
            "\n",
            "Best val auc:  0.8033\n",
            "\n",
            "\n",
            "[[491 186]\n",
            " [ 74 570]]\n",
            "              precision    recall  f1-score   support\n",
            "\n",
            "           0     0.8690    0.7253    0.7907       677\n",
            "           1     0.7540    0.8851    0.8143       644\n",
            "\n",
            "    accuracy                         0.8032      1321\n",
            "   macro avg     0.8115    0.8052    0.8025      1321\n",
            "weighted avg     0.8129    0.8032    0.8022      1321\n",
            "\n",
            "Best val auc:  0.8052\n",
            "\n",
            "\n",
            "[[434 173]\n",
            " [ 74 640]]\n",
            "              precision    recall  f1-score   support\n",
            "\n",
            "           0     0.8543    0.7150    0.7785       607\n",
            "           1     0.7872    0.8964    0.8382       714\n",
            "\n",
            "    accuracy                         0.8130      1321\n",
            "   macro avg     0.8208    0.8057    0.8084      1321\n",
            "weighted avg     0.8181    0.8130    0.8108      1321\n",
            "\n",
            "Best val auc:  0.8057\n",
            "\n",
            "\n",
            "[[473 200]\n",
            " [ 52 596]]\n",
            "              precision    recall  f1-score   support\n",
            "\n",
            "           0     0.9010    0.7028    0.7896       673\n",
            "           1     0.7487    0.9198    0.8255       648\n",
            "\n",
            "    accuracy                         0.8092      1321\n",
            "   macro avg     0.8248    0.8113    0.8076      1321\n",
            "weighted avg     0.8263    0.8092    0.8072      1321\n",
            "\n",
            "Best val auc:  0.8113\n",
            "\n",
            "\n",
            "[[489 185]\n",
            " [ 69 578]]\n",
            "              precision    recall  f1-score   support\n",
            "\n",
            "           0     0.8763    0.7255    0.7938       674\n",
            "           1     0.7575    0.8934    0.8199       647\n",
            "\n",
            "    accuracy                         0.8077      1321\n",
            "   macro avg     0.8169    0.8094    0.8068      1321\n",
            "weighted avg     0.8182    0.8077    0.8066      1321\n",
            "\n",
            "Best val auc:  0.8094\n",
            "\n",
            "\n",
            "[[500 165]\n",
            " [ 66 589]]\n",
            "              precision    recall  f1-score   support\n",
            "\n",
            "           0     0.8834    0.7519    0.8123       665\n",
            "           1     0.7812    0.8992    0.8361       655\n",
            "\n",
            "    accuracy                         0.8250      1320\n",
            "   macro avg     0.8323    0.8256    0.8242      1320\n",
            "weighted avg     0.8327    0.8250    0.8241      1320\n",
            "\n",
            "Best val auc:  0.8256\n",
            "\n",
            "\n",
            "[[486 205]\n",
            " [ 47 582]]\n",
            "              precision    recall  f1-score   support\n",
            "\n",
            "           0     0.9118    0.7033    0.7941       691\n",
            "           1     0.7395    0.9253    0.8220       629\n",
            "\n",
            "    accuracy                         0.8091      1320\n",
            "   macro avg     0.8257    0.8143    0.8081      1320\n",
            "weighted avg     0.8297    0.8091    0.8074      1320\n",
            "\n",
            "Best val auc:  0.8143\n",
            "\n",
            "\n",
            "[[489 200]\n",
            " [ 52 579]]\n",
            "              precision    recall  f1-score   support\n",
            "\n",
            "           0     0.9039    0.7097    0.7951       689\n",
            "           1     0.7433    0.9176    0.8213       631\n",
            "\n",
            "    accuracy                         0.8091      1320\n",
            "   macro avg     0.8236    0.8137    0.8082      1320\n",
            "weighted avg     0.8271    0.8091    0.8076      1320\n",
            "\n",
            "Best val auc:  0.8137\n",
            "\n",
            "\n",
            "[[476 169]\n",
            " [ 73 602]]\n",
            "              precision    recall  f1-score   support\n",
            "\n",
            "           0     0.8670    0.7380    0.7973       645\n",
            "           1     0.7808    0.8919    0.8326       675\n",
            "\n",
            "    accuracy                         0.8167      1320\n",
            "   macro avg     0.8239    0.8149    0.8150      1320\n",
            "weighted avg     0.8229    0.8167    0.8154      1320\n",
            "\n",
            "Best val auc:  0.8149\n",
            "\n",
            "\n",
            "[[495 173]\n",
            " [ 72 580]]\n",
            "              precision    recall  f1-score   support\n",
            "\n",
            "           0     0.8730    0.7410    0.8016       668\n",
            "           1     0.7703    0.8896    0.8256       652\n",
            "\n",
            "    accuracy                         0.8144      1320\n",
            "   macro avg     0.8216    0.8153    0.8136      1320\n",
            "weighted avg     0.8223    0.8144    0.8135      1320\n",
            "\n",
            "Best val auc:  0.8153\n",
            "\n",
            "\n",
            "[[466 196]\n",
            " [ 63 595]]\n",
            "              precision    recall  f1-score   support\n",
            "\n",
            "           0     0.8809    0.7039    0.7825       662\n",
            "           1     0.7522    0.9043    0.8213       658\n",
            "\n",
            "    accuracy                         0.8038      1320\n",
            "   macro avg     0.8166    0.8041    0.8019      1320\n",
            "weighted avg     0.8168    0.8038    0.8018      1320\n",
            "\n",
            "Best val auc:  0.8041\n",
            "\n",
            "\n",
            "[[468 188]\n",
            " [ 77 587]]\n",
            "              precision    recall  f1-score   support\n",
            "\n",
            "           0     0.8587    0.7134    0.7794       656\n",
            "           1     0.7574    0.8840    0.8158       664\n",
            "\n",
            "    accuracy                         0.7992      1320\n",
            "   macro avg     0.8081    0.7987    0.7976      1320\n",
            "weighted avg     0.8078    0.7992    0.7977      1320\n",
            "\n",
            "Best val auc:  0.7987\n",
            "\n",
            "\n",
            "[[468 198]\n",
            " [ 52 602]]\n",
            "              precision    recall  f1-score   support\n",
            "\n",
            "           0     0.9000    0.7027    0.7892       666\n",
            "           1     0.7525    0.9205    0.8281       654\n",
            "\n",
            "    accuracy                         0.8106      1320\n",
            "   macro avg     0.8262    0.8116    0.8086      1320\n",
            "weighted avg     0.8269    0.8106    0.8085      1320\n",
            "\n",
            "Best val auc:  0.8116\n",
            "\n",
            "\n",
            "[[476 202]\n",
            " [ 79 563]]\n",
            "              precision    recall  f1-score   support\n",
            "\n",
            "           0     0.8577    0.7021    0.7721       678\n",
            "           1     0.7359    0.8769    0.8003       642\n",
            "\n",
            "    accuracy                         0.7871      1320\n",
            "   macro avg     0.7968    0.7895    0.7862      1320\n",
            "weighted avg     0.7985    0.7871    0.7858      1320\n",
            "\n",
            "Best val auc:  0.7895\n",
            "\n",
            "\n",
            "[[514 172]\n",
            " [ 69 565]]\n",
            "              precision    recall  f1-score   support\n",
            "\n",
            "           0     0.8816    0.7493    0.8101       686\n",
            "           1     0.7666    0.8912    0.8242       634\n",
            "\n",
            "    accuracy                         0.8174      1320\n",
            "   macro avg     0.8241    0.8202    0.8172      1320\n",
            "weighted avg     0.8264    0.8174    0.8169      1320\n",
            "\n",
            "Best val auc:  0.8202\n",
            "\n",
            "\n",
            "[[446 188]\n",
            " [ 67 619]]\n",
            "              precision    recall  f1-score   support\n",
            "\n",
            "           0     0.8694    0.7035    0.7777       634\n",
            "           1     0.7670    0.9023    0.8292       686\n",
            "\n",
            "    accuracy                         0.8068      1320\n",
            "   macro avg     0.8182    0.8029    0.8034      1320\n",
            "weighted avg     0.8162    0.8068    0.8045      1320\n",
            "\n",
            "Best val auc:  0.8029\n",
            "\n"
          ]
        }
      ]
    },
    {
      "cell_type": "markdown",
      "source": [
        "**Curva ROC para el DecisionTreeClassifier**"
      ],
      "metadata": {
        "id": "llEHd6XF48Ni"
      }
    },
    {
      "cell_type": "code",
      "source": [
        "#Curva ROC Arbol de desición\n",
        "\n",
        "classes = classifier.predict(X_test) \n",
        "ns_probs = [0 for _ in range(len(y_test))]\n",
        "\n",
        "ns_auc = roc_auc_score(y_test, ns_probs,average='weighted')\n",
        "classifier_auc = roc_auc_score(y_test,classes,average='weighted')\n",
        "\n",
        "#aps = average_precision_score(y_test, ns_probs)\n",
        "#print(\"Average_presicion_score \"+str(aps))\n",
        "\n",
        "print('Sin entrenar: ROC AUC=%.3f' % (ns_auc))\n",
        "print('Algoritmo arbol de: ROC AUC=%.3f' % (classifier_auc))\n",
        "classifier_probs = classes[:]\n",
        "ns_fpr, ns_tpr, _ = roc_curve(y_test, ns_probs)\n",
        "pyplot.plot(ns_fpr, ns_tpr, linestyle='--', label='Sin entrenar')\n",
        "classifier_fpr, classifier_tpr, _ = roc_curve(y_test, classifier_probs)\n",
        "print()\n",
        "pyplot.plot(classifier_fpr, classifier_tpr, marker='.', label='Curva arbol de desición')\n",
        "pyplot.xlabel('Tasa de Falsos Positivos')\n",
        "pyplot.ylabel('Tasa de Verdaderos Positivos')\n",
        "pyplot.legend()\n",
        "pyplot.show()\n",
        "print()"
      ],
      "metadata": {
        "colab": {
          "base_uri": "https://localhost:8080/",
          "height": 518
        },
        "id": "4Mw6iYm65Dch",
        "outputId": "9df11cbc-2781-40f3-9ea5-bd1d5383574e"
      },
      "execution_count": 7,
      "outputs": [
        {
          "output_type": "stream",
          "name": "stdout",
          "text": [
            "Sin entrenar: ROC AUC=0.500\n",
            "Algoritmo arbol de: ROC AUC=0.803\n",
            "\n"
          ]
        },
        {
          "output_type": "display_data",
          "data": {
            "text/plain": [
              "<Figure size 640x480 with 1 Axes>"
            ],
            "image/png": "[encoded data removed]"
          },
          "metadata": {}
        },
        {
          "output_type": "stream",
          "name": "stdout",
          "text": [
            "\n"
          ]
        }
      ]
    }
  ]
}